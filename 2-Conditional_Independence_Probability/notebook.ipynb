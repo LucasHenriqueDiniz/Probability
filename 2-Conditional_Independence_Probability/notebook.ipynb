{
 "cells": [
  {
   "cell_type": "code",
   "execution_count": 5,
   "metadata": {},
   "outputs": [
    {
     "data": {
      "application/vnd.jupyter.widget-view+json": {
       "model_id": "cb8744c4975347c98dc98034d3f1cfbe",
       "version_major": 2,
       "version_minor": 0
      },
      "text/plain": [
       "interactive(children=(IntSlider(value=6, description='Dice Faces', max=50, min=2), Output()), _dom_classes=('w…"
      ]
     },
     "metadata": {},
     "output_type": "display_data"
    },
    {
     "data": {
      "text/plain": [
       "<function __main__.experiment_one(dice)>"
      ]
     },
     "execution_count": 5,
     "metadata": {},
     "output_type": "execute_result"
    }
   ],
   "source": [
    "#Dice\n",
    "\n",
    "import numpy as np\n",
    "\n",
    "#Libs Just to Display\n",
    "from matplotlib import pyplot as plt\n",
    "from ipywidgets import interact, interactive, fixed, interact_manual\n",
    "import ipywidgets as widgets\n",
    "\n",
    "from Conditional import Conditional\n",
    "cf = Conditional()\n",
    "\n",
    "def experiment_one(dice):\n",
    "    pairProb = int(dice/2) / dice\n",
    "    print(\"Pair Probability: \", int(pairProb * 100), \"%\")\n",
    "\n",
    "    print(\"Equal to 2 probability: \", int(100 / dice), \"%\")\n",
    "\n",
    "    print(\"Probability of a Pair Number be Equal Two: \", int(cf.Conditional_Formula(1 / dice, pairProb) * 100), \"%\")\n",
    "\n",
    "\n",
    "\n",
    "\n",
    "interact(experiment_one,\n",
    "        dice = widgets.IntSlider(value = 6, min = 2, max = 50, step = 1, description = \"Dice Faces\"),\n",
    "        )"
   ]
  },
  {
   "cell_type": "code",
   "execution_count": 6,
   "metadata": {},
   "outputs": [
    {
     "data": {
      "application/vnd.jupyter.widget-view+json": {
       "model_id": "7bff1b2aac114c87bb50146861e67b4b",
       "version_major": 2,
       "version_minor": 0
      },
      "text/plain": [
       "interactive(children=(IntSlider(value=6, description='Dice Faces', max=20, min=2), Output()), _dom_classes=('w…"
      ]
     },
     "metadata": {},
     "output_type": "display_data"
    },
    {
     "data": {
      "text/plain": [
       "<function __main__.experiment_two(dice)>"
      ]
     },
     "execution_count": 6,
     "metadata": {},
     "output_type": "execute_result"
    }
   ],
   "source": [
    "#Dice\n",
    "\n",
    "import numpy as np\n",
    "\n",
    "#Libs Just to Display\n",
    "from matplotlib import pyplot as plt\n",
    "from ipywidgets import interact, interactive, fixed, interact_manual\n",
    "import ipywidgets as widgets\n",
    "\n",
    "from Conditional import Conditional\n",
    "cf = Conditional()\n",
    "\n",
    "def experiment_two(dice):\n",
    "    print(\"-------------------------------\")\n",
    "    print(\"Omega: All numbers\")\n",
    "    print(\"A: Just even numbers\")\n",
    "    print(\"B: Just numbers greater than 5\")\n",
    "    print(\"-------------------------------\")\n",
    "\n",
    "    sampleUniverse = list(range(1,dice + 1))\n",
    "    print(\"Omega =\", sampleUniverse)\n",
    "\n",
    "    conjEven, conjOdd = cf.Even_And_Odds_Conjunct(sampleUniverse)\n",
    "    print(\"A =\", conjEven)\n",
    "\n",
    "    conjGreaterThan5 = cf.Greater_Than_Conjunct(sampleUniverse, 5)\n",
    "    print(\"B =\", conjGreaterThan5)\n",
    "\n",
    "    print(\"-------------------------------\")\n",
    "    probA = cf.Probability(conjEven, sampleUniverse)\n",
    "    print(\"Prob A =\", probA)\n",
    "    probB = cf.Probability(conjGreaterThan5, sampleUniverse)\n",
    "    print(\"Prob B:\", probB)\n",
    "    print(\"-------------------------------\")\n",
    "    conjAandB = cf.And_OP_Conjunct(conjEven, conjGreaterThan5)\n",
    "    probAandB = cf.Probability(conjAandB, sampleUniverse)\n",
    "    probAcondB = cf.Conditional_Formula(probAandB, probB)\n",
    "    print(\"Prob A|B:\", probAcondB)\n",
    "    print(\"-------------------------------\")\n",
    "\n",
    "    \n",
    "\n",
    "\n",
    "\n",
    "interact(experiment_two,\n",
    "        dice = widgets.IntSlider(value = 6, min = 2, max = 20, step = 1, description = \"Dice Faces\"),\n",
    "        )"
   ]
  },
  {
   "cell_type": "code",
   "execution_count": 1,
   "metadata": {},
   "outputs": [
    {
     "data": {
      "application/vnd.jupyter.widget-view+json": {
       "model_id": "6ff4a445433446079550a1bdc8e61eb4",
       "version_major": 2,
       "version_minor": 0
      },
      "text/plain": [
       "interactive(children=(IntSlider(value=6, description='Dice 1 Faces', max=20, min=2), IntSlider(value=6, descri…"
      ]
     },
     "metadata": {},
     "output_type": "display_data"
    },
    {
     "data": {
      "text/plain": [
       "<function __main__.experiment_three(dice1, dice2)>"
      ]
     },
     "execution_count": 1,
     "metadata": {},
     "output_type": "execute_result"
    }
   ],
   "source": [
    "#Dice Independence\n",
    "\n",
    "import numpy as np\n",
    "\n",
    "#Libs Just to Display\n",
    "from matplotlib import pyplot as plt\n",
    "from ipywidgets import interact, interactive, fixed, interact_manual\n",
    "import ipywidgets as widgets\n",
    "\n",
    "from Conditional import Conditional\n",
    "cf = Conditional()\n",
    "\n",
    "def experiment_three(dice1, dice2):\n",
    "    print(\"-------------------------------\")\n",
    "    print(\"Omega: All Possibilities\")\n",
    "    print(\"A: Sums that is equal to 6\")\n",
    "    print(\"B: First dice results in 4\")\n",
    "    print(\"-------------------------------\")\n",
    "    sampleUniverse = []\n",
    "    for d1 in range(1, dice1 + 1):\n",
    "        for d2 in range(1, dice2 + 1):\n",
    "            sampleUniverse.append([d1,d2])\n",
    "    print(\"Omega: \", sampleUniverse)\n",
    "\n",
    "    conjA = cf.Sum_Of_Elements_Is_Equal(sampleUniverse, 6)\n",
    "    print(\"A: \", conjA)\n",
    "\n",
    "    conjB = cf.An_Element_Is_Equal_To(sampleUniverse, 0, 4)\n",
    "    print(\"B: \", conjB)\n",
    "\n",
    "    print(\"-------------------------------\")\n",
    "    probA = cf.Probability(conjA, sampleUniverse)\n",
    "    probB = cf.Probability(conjB, sampleUniverse)\n",
    "    print(\"Prob A =\", probA)\n",
    "    print(\"Prob B =\", probB)\n",
    "    print(\"-------------------------------\")\n",
    "\n",
    "    conjAandB = cf.And_OP_Conjunct(conjA, conjB)\n",
    "    probAandB = cf.Probability(conjAandB ,sampleUniverse)\n",
    "    print(\"Prob (A & B) =\", probAandB)\n",
    "\n",
    "    probAB = probA * probB\n",
    "    print(\"(Prob A) * (Prob B) =\", probAB)\n",
    "    if(cf.Independence(conjA, conjB, sampleUniverse)):\n",
    "        print(\"These events are independents\")\n",
    "    else:\n",
    "        print(\"These events are dependents\")\n",
    "    print(\"-------------------------------\")\n",
    "     \n",
    "\n",
    "interact(experiment_three,\n",
    "        dice1 = widgets.IntSlider(value = 6, min = 2, max = 20, step = 1, description = \"Dice 1 Faces\"),\n",
    "        dice2 = widgets.IntSlider(value = 6, min = 2, max = 20, step = 1, description = \"Dice 2 Faces\"),\n",
    "        )"
   ]
  },
  {
   "cell_type": "code",
   "execution_count": 46,
   "metadata": {},
   "outputs": [
    {
     "name": "stdout",
     "output_type": "stream",
     "text": [
      "[[1, 2], 1]\n",
      "C[0] is a List\n",
      "C is a list of lists\n",
      "False\n"
     ]
    }
   ],
   "source": [
    "a = [1,2]\n",
    "b = 1\n",
    "c = []\n",
    "c.append(a)\n",
    "c.append(b)\n",
    "print(c)\n",
    "\n",
    "if(isinstance(c[0], list)):\n",
    "    print(\"C[0] is a List\")\n",
    "\n",
    "if(isinstance(c[1], list)):\n",
    "    print(\"C[1] is a List\")\n",
    "\n",
    "if(any(isinstance(i, list) for i in c)):\n",
    "    print(\"C is a list of lists\")\n",
    "\n",
    "s = \"ab\"\n",
    "print(isinstance(s, list))"
   ]
  }
 ],
 "metadata": {
  "interpreter": {
   "hash": "bed278c2a24a4e6d1bf9cc565e49a622aeb50d945186659e8b11c453e98d9e06"
  },
  "kernelspec": {
   "display_name": "Python 3.9.1 64-bit",
   "language": "python",
   "name": "python3"
  },
  "language_info": {
   "codemirror_mode": {
    "name": "ipython",
    "version": 3
   },
   "file_extension": ".py",
   "mimetype": "text/x-python",
   "name": "python",
   "nbconvert_exporter": "python",
   "pygments_lexer": "ipython3",
   "version": "3.9.1"
  },
  "orig_nbformat": 4
 },
 "nbformat": 4,
 "nbformat_minor": 2
}
