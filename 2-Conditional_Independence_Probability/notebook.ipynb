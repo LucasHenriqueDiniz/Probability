{
 "cells": [
  {
   "cell_type": "code",
   "execution_count": 12,
   "metadata": {},
   "outputs": [
    {
     "data": {
      "application/vnd.jupyter.widget-view+json": {
       "model_id": "ff7a378a2e45457891b6f298bf64f853",
       "version_major": 2,
       "version_minor": 0
      },
      "text/plain": [
       "interactive(children=(IntSlider(value=6, description='Dice Faces', max=50, min=2), Output()), _dom_classes=('w…"
      ]
     },
     "metadata": {},
     "output_type": "display_data"
    },
    {
     "data": {
      "text/plain": [
       "<function __main__.experiment_plot(dice)>"
      ]
     },
     "execution_count": 12,
     "metadata": {},
     "output_type": "execute_result"
    }
   ],
   "source": [
    "#Dice\n",
    "\n",
    "import numpy as np\n",
    "\n",
    "#Libs Just to Display\n",
    "from matplotlib import pyplot as plt\n",
    "from ipywidgets import interact, interactive, fixed, interact_manual\n",
    "import ipywidgets as widgets\n",
    "\n",
    "from Conditional import Conditional\n",
    "cf = Conditional()\n",
    "\n",
    "def experiment_plot(dice):\n",
    "    pairProb = int(dice/2) / dice\n",
    "    print(\"Pair Probability: \", int(pairProb * 100), \"%\")\n",
    "\n",
    "    print(\"Equal to 2 probability: \", int(100 / dice), \"%\")\n",
    "\n",
    "    print(\"Probability of a Pair Number be Equal Two: \", int(cf.Conditional_Formula(1 / dice, pairProb) * 100), \"%\")\n",
    "\n",
    "\n",
    "interact(experiment_plot,\n",
    "        dice = widgets.IntSlider(value = 6, min = 2, max = 50, step = 1, description = \"Dice Faces\"),\n",
    "        )"
   ]
  }
 ],
 "metadata": {
  "interpreter": {
   "hash": "bed278c2a24a4e6d1bf9cc565e49a622aeb50d945186659e8b11c453e98d9e06"
  },
  "kernelspec": {
   "display_name": "Python 3.9.1 64-bit",
   "language": "python",
   "name": "python3"
  },
  "language_info": {
   "codemirror_mode": {
    "name": "ipython",
    "version": 3
   },
   "file_extension": ".py",
   "mimetype": "text/x-python",
   "name": "python",
   "nbconvert_exporter": "python",
   "pygments_lexer": "ipython3",
   "version": "3.9.1"
  },
  "orig_nbformat": 4
 },
 "nbformat": 4,
 "nbformat_minor": 2
}
