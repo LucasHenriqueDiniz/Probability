{
 "cells": [
  {
   "cell_type": "code",
   "execution_count": 6,
   "metadata": {},
   "outputs": [
    {
     "data": {
      "application/vnd.jupyter.widget-view+json": {
       "model_id": "994aff7537fb41f18ba3ab3504d5c4b8",
       "version_major": 2,
       "version_minor": 0
      },
      "text/plain": [
       "interactive(children=(IntSlider(value=3, description='numberOfDoors', max=10, min=2), IntSlider(value=2, descr…"
      ]
     },
     "metadata": {},
     "output_type": "display_data"
    },
    {
     "data": {
      "text/plain": [
       "<function __main__.One_Shot(numberOfDoors, chosenDoor)>"
      ]
     },
     "execution_count": 6,
     "metadata": {},
     "output_type": "execute_result"
    }
   ],
   "source": [
    "#Monty Hall\n",
    "#One Shot Example\n",
    "\n",
    "import numpy as np\n",
    "\n",
    "#Libs Just to Display\n",
    "from ipywidgets import interact, interactive, fixed, interact_manual\n",
    "import ipywidgets as widgets\n",
    "\n",
    "import monty_hall as mh\n",
    "\n",
    "def One_Shot(numberOfDoors, chosenDoor):\n",
    "    doors = mh.Door_Generator(numberOfDoors)\n",
    "    answer = mh.Door_Check(doors, chosenDoor)\n",
    "    print(\"-------------------------\")\n",
    "    print(\"Doors:\", doors)\n",
    "    print(\"Chosen door:\", chosenDoor)\n",
    "    probability = 100 / numberOfDoors\n",
    "    probabilityNeg = 100 - probability\n",
    "    if(answer):\n",
    "        print(\"Congratz! You won!\")\n",
    "        print(\"You are better than %.2f\" % probabilityNeg,\"% of players\")\n",
    "        \n",
    "    else:\n",
    "        print(\"Sorry, try again...\")\n",
    "        print(\"You and %.2f\" % probabilityNeg,\"% of players choose the wrong door\")\n",
    "    print(\"-------------------------\")\n",
    "    \n",
    "\n",
    "interact(One_Shot,\n",
    "        numberOfDoors = widgets.IntSlider(value = 3, min = 2, max = 10, step = 1),\n",
    "        chosenDoor = widgets.IntSlider(value = 2, min = 0, max = 10, step = 1)\n",
    "        )"
   ]
  },
  {
   "cell_type": "code",
   "execution_count": 1,
   "metadata": {},
   "outputs": [
    {
     "data": {
      "application/vnd.jupyter.widget-view+json": {
       "model_id": "a0a1375c8e4a4199bd36f2d00a44339d",
       "version_major": 2,
       "version_minor": 0
      },
      "text/plain": [
       "interactive(children=(IntSlider(value=3, description='numberOfDoors', max=10, min=2), IntSlider(value=2, descr…"
      ]
     },
     "metadata": {},
     "output_type": "display_data"
    },
    {
     "data": {
      "text/plain": [
       "<function __main__.Monty_Hall_Main(numberOfDoors, chosenDoor, change)>"
      ]
     },
     "execution_count": 1,
     "metadata": {},
     "output_type": "execute_result"
    }
   ],
   "source": [
    "#Monty Hall\n",
    "#Complete\n",
    "\n",
    "import numpy as np\n",
    "\n",
    "#Libs Just to Display\n",
    "from ipywidgets import interact, interactive, fixed, interact_manual\n",
    "import ipywidgets as widgets\n",
    "\n",
    "import monty_hall as mh\n",
    "\n",
    "def Monty_Hall_Main(numberOfDoors, chosenDoor, change):\n",
    "    print(change)\n",
    "    doors = mh.Door_Generator(numberOfDoors)\n",
    "    answer = mh.Door_Check(doors, chosenDoor)\n",
    "    doorsShow = mh.Door_Show_Create(numberOfDoors)\n",
    "    print(\"-------------------------\")\n",
    "    print(\"Doors:\", doorsShow)\n",
    "    print(\"Chosen door:\", chosenDoor)\n",
    "    \n",
    "    doorsShow = mh.Open_Doors(doors, chosenDoor)\n",
    "    if(numberOfDoors == 3):\n",
    "        print(\"Okay... if I open this door, do you wanna change the chosen door?\")\n",
    "    else:\n",
    "        print(\"Okay... if I open these doors, do you wanna change the chosen door?\")\n",
    "    print(\"Doors:\", doorsShow)\n",
    "\n",
    "    if(change):\n",
    "        result = not(answer)\n",
    "    else:\n",
    "        result = answer\n",
    "\n",
    "    if(result):\n",
    "        print(\"Congratz! You won!\")\n",
    "        \n",
    "    else:\n",
    "        print(\"Sorry, try again...\")\n",
    "        \n",
    "\n",
    "    print(\"-------------------------\")\n",
    "    print(\"Cheat\")\n",
    "    print(\"Backdoors:\", doors)\n",
    "    \n",
    "\n",
    "interact(Monty_Hall_Main,\n",
    "        numberOfDoors = widgets.IntSlider(value = 3, min = 2, max = 10, step = 1),\n",
    "        chosenDoor = widgets.IntSlider(value = 2, min = 0, max = 10, step = 1),\n",
    "        change = [[\"Yes\", True],[\"No\", False]],\n",
    "        )"
   ]
  },
  {
   "cell_type": "code",
   "execution_count": 14,
   "metadata": {},
   "outputs": [
    {
     "data": {
      "application/vnd.jupyter.widget-view+json": {
       "model_id": "5561c27786374e1cadec8c2b524993c4",
       "version_major": 2,
       "version_minor": 0
      },
      "text/plain": [
       "interactive(children=(IntSlider(value=3, description='numberOfDoors', max=10, min=3), IntSlider(value=2, descr…"
      ]
     },
     "metadata": {},
     "output_type": "display_data"
    },
    {
     "data": {
      "text/plain": [
       "<function __main__.Statistics(numberOfDoors, attemps)>"
      ]
     },
     "execution_count": 14,
     "metadata": {},
     "output_type": "execute_result"
    }
   ],
   "source": [
    "#Monty Hall\n",
    "#Statistic\n",
    "\n",
    "import numpy as np\n",
    "import random\n",
    "\n",
    "#Libs Just to Display\n",
    "from matplotlib import pyplot as plt\n",
    "from ipywidgets import interact, interactive, fixed, interact_manual\n",
    "import ipywidgets as widgets\n",
    "\n",
    "import monty_hall as mh\n",
    "\n",
    "def Monty_Hall_Main(numberOfDoors, chosenDoor, change):\n",
    "    doors = mh.Door_Generator(numberOfDoors)\n",
    "    answer = mh.Door_Check(doors, chosenDoor)\n",
    "\n",
    "    if(change):\n",
    "        result = not(answer)\n",
    "    else:\n",
    "        result = answer\n",
    "\n",
    "    if(result):\n",
    "        return True\n",
    "        \n",
    "    else:\n",
    "        return False\n",
    "\n",
    "def Statistics(numberOfDoors, attemps):\n",
    "    results = []\n",
    "    winners = 0\n",
    "    winProbabilities = []\n",
    "    for i in range (attemps):\n",
    "        results.append(Monty_Hall_Main(numberOfDoors, random.randint(0, numberOfDoors - 1), True))\n",
    "        if(results[i]):\n",
    "                winners += 1\n",
    "        if(i > 0):\n",
    "            winProbabilities.append(winners / i)\n",
    "\n",
    "    winProbability = winners / attemps\n",
    "    print(\"Probability to Win\",winProbability)\n",
    "\n",
    "    f, ax = plt.subplots(ncols = 2, figsize = (20,5))\n",
    "    ax[0].bar(np.arange(len(results)),results)\n",
    "    ax[0].set_ylim(bottom = 0.0,top = 1.0)\n",
    "    ax[0].set_xlabel(\"Number of Attemps\")\n",
    "    ax[0].set_ylabel(\"Results\")\n",
    "    ax[0].set_title(\"Resume of Attemps\")\n",
    "\n",
    "    ax[1].plot(np.arange(len(winProbabilities)),winProbabilities)\n",
    "    ax[1].axhline(y = winProbability, color ='r', linestyle = '--')\n",
    "    ax[1].set_ylim(bottom = 0.0,top = 1.0)\n",
    "    ax[1].set_xlabel(\"Number fo Attemps\")\n",
    "    ax[1].set_ylabel(\"Frequency\")\n",
    "    ax[1].set_title(\"Result of Frequencies\")\n",
    "\n",
    "    plt.show()\n",
    "\n",
    "interact(Statistics,\n",
    "        numberOfDoors = widgets.IntSlider(value = 3, min = 3, max = 10, step = 1),\n",
    "        attemps = widgets.IntSlider(value = 2, min = 1, max = 1000, step = 1)\n",
    "        )"
   ]
  }
 ],
 "metadata": {
  "interpreter": {
   "hash": "bed278c2a24a4e6d1bf9cc565e49a622aeb50d945186659e8b11c453e98d9e06"
  },
  "kernelspec": {
   "display_name": "Python 3.9.1 64-bit",
   "language": "python",
   "name": "python3"
  },
  "language_info": {
   "codemirror_mode": {
    "name": "ipython",
    "version": 3
   },
   "file_extension": ".py",
   "mimetype": "text/x-python",
   "name": "python",
   "nbconvert_exporter": "python",
   "pygments_lexer": "ipython3",
   "version": "3.9.1"
  },
  "orig_nbformat": 4
 },
 "nbformat": 4,
 "nbformat_minor": 2
}
