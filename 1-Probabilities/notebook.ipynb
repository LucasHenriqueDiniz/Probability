{
 "cells": [
  {
   "cell_type": "code",
   "execution_count": 20,
   "metadata": {},
   "outputs": [
    {
     "data": {
      "application/vnd.jupyter.widget-view+json": {
       "model_id": "c4c059b5f72f49b7bbd2d7ac992c90e4",
       "version_major": 2,
       "version_minor": 0
      },
      "text/plain": [
       "interactive(children=(FloatSlider(value=0.5, description='probability', max=1.0, step=0.01), IntSlider(value=5…"
      ]
     },
     "metadata": {},
     "output_type": "display_data"
    },
    {
     "data": {
      "text/plain": [
       "<function __main__.experiment_plot(probability, chances)>"
      ]
     },
     "execution_count": 20,
     "metadata": {},
     "output_type": "execute_result"
    }
   ],
   "source": [
    "import numpy as np\n",
    "\n",
    "#Libs Just to Display\n",
    "from matplotlib import pyplot as plt\n",
    "from ipywidgets import interact, interactive, fixed, interact_manual\n",
    "import ipywidgets as widgets\n",
    "\n",
    "from A_coin_probability import Probability_F\n",
    "pf = Probability_F()\n",
    "\n",
    "def experiment_plot(probability, chances):\n",
    "    results = pf.Experiment( probability, chances)\n",
    "    f, ax = plt.subplots(ncols = 2, figsize = (20,5))\n",
    "    ax[0].stem(results)\n",
    "\n",
    "    bars = [(1 - pf.Frequency(results)) * 100, pf.Frequency(results) * 100] \n",
    "\n",
    "    #print(bars)\n",
    "    ax[1].bar([0,1],bars)\n",
    "\n",
    "\n",
    "interact(experiment_plot,\n",
    "        probability = widgets.FloatSlider(value = 0.5, min = 0, max = 1, step = 0.01),\n",
    "        chances = widgets.IntSlider(value = 5, min = 1, max = 100, step = 1)\n",
    "        )"
   ]
  }
 ],
 "metadata": {
  "interpreter": {
   "hash": "bed278c2a24a4e6d1bf9cc565e49a622aeb50d945186659e8b11c453e98d9e06"
  },
  "kernelspec": {
   "display_name": "Python 3.9.1 64-bit",
   "language": "python",
   "name": "python3"
  },
  "language_info": {
   "codemirror_mode": {
    "name": "ipython",
    "version": 3
   },
   "file_extension": ".py",
   "mimetype": "text/x-python",
   "name": "python",
   "nbconvert_exporter": "python",
   "pygments_lexer": "ipython3",
   "version": "3.9.1"
  },
  "orig_nbformat": 4
 },
 "nbformat": 4,
 "nbformat_minor": 2
}
