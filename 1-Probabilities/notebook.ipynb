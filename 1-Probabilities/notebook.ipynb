{
 "cells": [
  {
   "cell_type": "code",
   "execution_count": 2,
   "metadata": {},
   "outputs": [
    {
     "data": {
      "application/vnd.jupyter.widget-view+json": {
       "model_id": "5f2fad4c24c5442f904dff58acdcc1b9",
       "version_major": 2,
       "version_minor": 0
      },
      "text/plain": [
       "interactive(children=(FloatSlider(value=0.5, description='probability', max=1.0, step=0.01), IntSlider(value=5…"
      ]
     },
     "metadata": {},
     "output_type": "display_data"
    },
    {
     "data": {
      "text/plain": [
       "<function __main__.experiment_plot(probability, chances)>"
      ]
     },
     "execution_count": 2,
     "metadata": {},
     "output_type": "execute_result"
    }
   ],
   "source": [
    "#Coin Probability\n",
    "\n",
    "import numpy as np\n",
    "\n",
    "#Libs Just to Display\n",
    "from matplotlib import pyplot as plt\n",
    "from ipywidgets import interact, interactive, fixed, interact_manual\n",
    "import ipywidgets as widgets\n",
    "\n",
    "from A_coin_probability import Probability_A\n",
    "pf = Probability_A()\n",
    "\n",
    "def experiment_plot(probability, chances):\n",
    "    results = pf.Experiment( probability, chances)\n",
    "    f, ax = plt.subplots(ncols = 3, figsize = (20,5))\n",
    "\n",
    "    ax[0].bar(np.arange(len(results)),results)\n",
    "    ax[0].set_ylim(bottom = 0.0,top = 1.0)\n",
    "    ax[0].set_xlabel(\"Number of Toss\")\n",
    "    ax[0].set_ylabel(\"Results\")\n",
    "    ax[0].set_title(\"Resume of Toss\")\n",
    "\n",
    "    bars = [(1 - pf.Frequency(results)) * 100, pf.Frequency(results) * 100] \n",
    "    ax[1].bar([0,1],bars)\n",
    "    ax[1].set_ylim(bottom = 0.0,top = 100.0)\n",
    "    ax[1].set_xlabel(\"False / True\")\n",
    "    ax[1].set_ylabel(\"Frequency\")\n",
    "    ax[1].set_title(\"Result of Toss\")\n",
    "\n",
    "    historic = pf.Frequencies(probability, chances)\n",
    "    ax[2].plot(historic)\n",
    "    ax[2].axhline(y = probability, color ='r', linestyle = '--')\n",
    "    ax[2].set_ylim(bottom = 0.0,top = 1.0)\n",
    "    ax[2].set_xlabel(\"Number of Toss\")\n",
    "    ax[2].set_ylabel(\"Frequencies\")\n",
    "    ax[2].set_title(\"Resume of Frequencies\")\n",
    "    plt.show()\n",
    "\n",
    "interact(experiment_plot,\n",
    "        probability = widgets.FloatSlider(value = 0.5, min = 0, max = 1, step = 0.01),\n",
    "        chances = widgets.IntSlider(value = 5, min = 2, max = 1000, step = 1)\n",
    "        )"
   ]
  },
  {
   "cell_type": "code",
   "execution_count": 1,
   "metadata": {},
   "outputs": [
    {
     "data": {
      "application/vnd.jupyter.widget-view+json": {
       "model_id": "9a6e08798261453f84c65d99ae13dc84",
       "version_major": 2,
       "version_minor": 0
      },
      "text/plain": [
       "interactive(children=(IntSlider(value=75, description='numMath', min=30), IntSlider(value=40, description='num…"
      ]
     },
     "metadata": {},
     "output_type": "display_data"
    },
    {
     "data": {
      "text/plain": [
       "<function __main__.experiment_plot(numMath, numEnglish, numMathEnglish, numNone)>"
      ]
     },
     "execution_count": 1,
     "metadata": {},
     "output_type": "execute_result"
    }
   ],
   "source": [
    "#School\n",
    "\n",
    "import numpy as np\n",
    "\n",
    "#Libs Just to Display\n",
    "from matplotlib import pyplot as plt\n",
    "from ipywidgets import interact, interactive, fixed, interact_manual\n",
    "import ipywidgets as widgets\n",
    "\n",
    "from B_school import Probability_B\n",
    "pf = Probability_B()\n",
    "\n",
    "def experiment_plot(numMath, numEnglish, numMathEnglish, numNone):\n",
    "    probabilities = pf.Num_To_Probability(numMath, numEnglish, numMathEnglish, numNone)\n",
    "    if(len(probabilities)):\n",
    "        plt.bar([\"Math\", \"English\", \"Math & English\", \"None\"],probabilities)\n",
    "    plt.ylim(bottom = 0.0, top = 1.0)\n",
    "    plt.show()\n",
    "\n",
    "    conjunction, subtitle = pf.Conjuctions(probabilities[0], probabilities[1], probabilities[2], probabilities[3])\n",
    "    plt.bar(subtitle, conjunction)\n",
    "    plt.ylim(bottom = 0.0, top = 1.0)\n",
    "    plt.show()\n",
    "\n",
    "\"\"\"\n",
    "    ax[0].set_ylim(bottom = 0.0,top = 1.0)\n",
    "    ax[0].set_xlabel(\"Number of Toss\")\n",
    "    ax[0].set_ylabel(\"Results\")\n",
    "    ax[0].set_title(\"Resume of Toss\")\n",
    "\"\"\"\n",
    "interact(experiment_plot,\n",
    "        numMath = widgets.IntSlider(value = 75, min = 30, max = 100, step = 1),\n",
    "        numEnglish = widgets.IntSlider(value = 40, min = 30, max = 100, step = 1), \n",
    "        numMathEnglish = widgets.IntSlider(value = 10, min = 0, max = 30, step = 1), \n",
    "        numNone = widgets.IntSlider(value = 10, min = 0, max = 100, step = 1)\n",
    "        )"
   ]
  }
 ],
 "metadata": {
  "interpreter": {
   "hash": "bed278c2a24a4e6d1bf9cc565e49a622aeb50d945186659e8b11c453e98d9e06"
  },
  "kernelspec": {
   "display_name": "Python 3.9.1 64-bit",
   "language": "python",
   "name": "python3"
  },
  "language_info": {
   "codemirror_mode": {
    "name": "ipython",
    "version": 3
   },
   "file_extension": ".py",
   "mimetype": "text/x-python",
   "name": "python",
   "nbconvert_exporter": "python",
   "pygments_lexer": "ipython3",
   "version": "3.9.1"
  },
  "orig_nbformat": 4
 },
 "nbformat": 4,
 "nbformat_minor": 2
}
